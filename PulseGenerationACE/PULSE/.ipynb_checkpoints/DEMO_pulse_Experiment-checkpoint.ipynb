{
 "cells": [
  {
   "cell_type": "code",
   "execution_count": 1,
   "metadata": {},
   "outputs": [],
   "source": [
    "# We are importing all the stuff we need for the program to work\n",
    "# If we crash here, we are missing some packages and need to install them\n",
    "\n",
    "\n",
    "\n",
    "import numpy as np\n",
    "from matplotlib import pyplot as plt\n",
    "import pyaceqd.pulsegenerator as pg \n",
    "import os as os \n",
    "# this imports the PULSE modules we will use\n",
    "from time import sleep\n",
    "from Pulse_v2 import pulse_shaper_obj, attenuator, motor, spectrometer, power_meter, time_delay\n",
    "\n",
    "# this imports the drivers for the hardware we will use\n",
    "# replace with the actual drivers \n",
    "from Pulse_v2 import fake_motor # a closed loop linear motor, e.g. GMT \n",
    "from Pulse_v2 import fake_spectrometer # a spectrometer, e.g. Andor \n",
    "from Pulse_v2 import fake_power_meter # a power meter, e.g. thorlabs \n",
    "from Pulse_v2 import fake_attenuator # an attenuator, e.g. thorlabs \n",
    "\n",
    "\n"
   ]
  },
  {
   "cell_type": "markdown",
   "metadata": {},
   "source": [
    "We will now test the hardware drivers and if they contain the right commands. If not we need to modify the drivers, e.g. add the richt function. A future version will allow for user-specified commands. "
   ]
  },
  {
   "cell_type": "code",
   "execution_count": 2,
   "metadata": {},
   "outputs": [
    {
     "name": "stdout",
     "output_type": "stream",
     "text": [
      "\n",
      "Motor connected!\n",
      "Motor name: Fancy motor\n",
      "Motor device: <Pulse_v2.fake_motor object at 0x7f3284136f50>\n",
      "Motor time of creation: 2024-10-01 12:04:38.725350\n"
     ]
    }
   ],
   "source": [
    "# first we will load the lab motor \n",
    "lab_motor = fake_motor()\n",
    "# and then tranform it into a PULSE motor \n",
    "pulse_motor = motor(lab_motor, name='Fancy motor')\n",
    "# this checks if lab_motor contains the functions \"set_position(absolute_position)\" and \"close()\"\n"
   ]
  },
  {
   "cell_type": "code",
   "execution_count": 3,
   "metadata": {},
   "outputs": [
    {
     "name": "stdout",
     "output_type": "stream",
     "text": [
      "Moving to position:  20\n"
     ]
    }
   ],
   "source": [
    "# We then check if it moves...\n",
    "pulse_motor.set_position(20, excecute=True)\n",
    "# the variable excecute determines if the motor should actually move and is default to False"
   ]
  },
  {
   "cell_type": "code",
   "execution_count": 4,
   "metadata": {},
   "outputs": [
    {
     "name": "stdout",
     "output_type": "stream",
     "text": [
      "Moving to position:  0\n"
     ]
    }
   ],
   "source": [
    "# ...and move back to 0 again.. if we want to...\n",
    "pulse_motor.set_position(0, excecute=True)"
   ]
  },
  {
   "cell_type": "code",
   "execution_count": 5,
   "metadata": {},
   "outputs": [
    {
     "name": "stdout",
     "output_type": "stream",
     "text": [
      "Motor closed\n"
     ]
    }
   ],
   "source": [
    "#... and if it closes again \n",
    "pulse_motor.close() "
   ]
  },
  {
   "cell_type": "markdown",
   "metadata": {},
   "source": [
    "Attenuator"
   ]
  },
  {
   "cell_type": "code",
   "execution_count": 6,
   "metadata": {},
   "outputs": [
    {
     "name": "stdout",
     "output_type": "stream",
     "text": [
      "\n",
      "Attenuator connected!\n",
      "Attenuator name: Fancy attenuator\n",
      "Attenuator device: <Pulse_v2.fake_attenuator object at 0x7f3284136da0>\n",
      "Attenuator time of creation: 2024-10-01 12:04:54.891130\n"
     ]
    }
   ],
   "source": [
    "# if that worked we will move on to the attenuator, again initializing the lab attenuator\n",
    "lab_attenuator = fake_attenuator()\n",
    "# and then tranform it into a PULSE attenuator\n",
    "pulse_attenuator = attenuator(lab_attenuator, name='Fancy attenuator')\n",
    "# this checks if lab_attenuator contains the functions \"set_attenuation(attenuation)\" and \"close()\""
   ]
  },
  {
   "cell_type": "code",
   "execution_count": 7,
   "metadata": {},
   "outputs": [
    {
     "name": "stdout",
     "output_type": "stream",
     "text": [
      "Setting attenuation to:  0.5\n",
      "Setting attenuation to:  1\n",
      "Setting attenuation to:  0\n"
     ]
    }
   ],
   "source": [
    "# then we will check if it attenuates\n",
    "pulse_attenuator.set_attenuation(0.5, excecute=True)\n",
    "sleep(2)\n",
    "pulse_attenuator.set_attenuation(1, excecute=True)\n",
    "sleep(2)\n",
    "pulse_attenuator.set_attenuation(0, excecute=True)\n",
    "\n",
    "\n",
    "# attenuators take values between 0 and 1, where 0 is no transmission and 1 is full transmission\n",
    "# take care that your device also works within the same range"
   ]
  },
  {
   "cell_type": "code",
   "execution_count": 8,
   "metadata": {},
   "outputs": [
    {
     "name": "stdout",
     "output_type": "stream",
     "text": [
      "Attenuator closed\n"
     ]
    }
   ],
   "source": [
    "#... and if it closes again\n",
    "pulse_attenuator.close()"
   ]
  },
  {
   "cell_type": "markdown",
   "metadata": {},
   "source": [
    "Power Meter"
   ]
  },
  {
   "cell_type": "code",
   "execution_count": 9,
   "metadata": {},
   "outputs": [
    {
     "name": "stdout",
     "output_type": "stream",
     "text": [
      "\n",
      "Power Meter connected!\n",
      "Power Meter name: fake\n",
      "Power Meter device: <Pulse_v2.fake_power_meter object at 0x7f32841364a0>\n",
      "Power Meter time of creation: 2024-10-01 12:05:12.061692\n"
     ]
    }
   ],
   "source": [
    "# We now move on to the measurement devices, starting with the power meter\n",
    "lab_power_meter = fake_power_meter()\n",
    "pulse_power_meter = power_meter(lab_power_meter, name='fake')\n",
    "# this checks if lab_power_meter contains the functions \"get_power()\" and \"close()\"\n"
   ]
  },
  {
   "cell_type": "code",
   "execution_count": 10,
   "metadata": {},
   "outputs": [
    {
     "name": "stdout",
     "output_type": "stream",
     "text": [
      "got power: 1\n",
      "[1, None]\n"
     ]
    }
   ],
   "source": [
    "# lets measure power and look at the output \n",
    "print(pulse_power_meter.get_power())\n",
    "# we should see a list of length 2 with the first entry being the power measured in the lab and the second beiing reserved for the power of a simulation pulse (default to None)"
   ]
  },
  {
   "cell_type": "code",
   "execution_count": 11,
   "metadata": {},
   "outputs": [
    {
     "name": "stdout",
     "output_type": "stream",
     "text": [
      "Power meter closed\n"
     ]
    }
   ],
   "source": [
    "# close the power meter\n",
    "pulse_power_meter.close()"
   ]
  },
  {
   "cell_type": "code",
   "execution_count": 12,
   "metadata": {},
   "outputs": [
    {
     "name": "stdout",
     "output_type": "stream",
     "text": [
      "\n",
      "Spectrometer connected!\n",
      "Spectrometer name: Fake spectrometer\n",
      "Spectrometer device: <Pulse_v2.fake_spectrometer object at 0x7f3284136ef0>\n",
      "Spectrometer time of creation: 2024-10-01 12:05:22.549168\n"
     ]
    }
   ],
   "source": [
    "# Finally we will look at the spectrometer\n",
    "lab_spectrometer = fake_spectrometer(n_wl=1340, start_wl=774.15, end_wl=793.422)\n",
    "pulse_spectrometer = spectrometer(lab_spectrometer, name='Fake spectrometer')\n",
    "# this checks if lab_spectrometer contains the functions \"get_spectrum()\" and \"close()\" and already collects one spectrum to determine the wavelength range internally"
   ]
  },
  {
   "cell_type": "code",
   "execution_count": 13,
   "metadata": {},
   "outputs": [
    {
     "name": "stdout",
     "output_type": "stream",
     "text": [
      "[[array([774.15      , 774.16439283, 774.17878566, ..., 793.39321434,\n",
      "       793.40760717, 793.422     ]), array([67.11489013, 92.73216456, 43.81215759, ..., 65.42275871,\n",
      "       22.21472787, 62.61396475])], [None, None], [None, None]]\n"
     ]
    }
   ],
   "source": [
    "# again look at the output\n",
    "output = pulse_spectrometer.get_spectrum()\n",
    "print(output)\n",
    "# we see a nested list where output[0][0] is the wavelength measured and output[0][1] is the recorded spectrum\n",
    "# the second entry is reserved for the spectrum of a simulation pulse (default to None) following the same notation, e.g. output[1][0] and output[1][1]\n",
    "# the third output the corresponds to emission calculated from a simulation. \n",
    "# These are part of the notebook: \"DEMO_pulse_simulation.ipynb\""
   ]
  },
  {
   "cell_type": "code",
   "execution_count": 14,
   "metadata": {},
   "outputs": [
    {
     "name": "stdout",
     "output_type": "stream",
     "text": [
      "Spectrometer closed\n"
     ]
    }
   ],
   "source": [
    "# close the spectrometer\n",
    "pulse_spectrometer.close()"
   ]
  },
  {
   "cell_type": "markdown",
   "metadata": {},
   "source": [
    "If all devices work as excpected we will move on and callibrate a pulse shaper. For this please setup your 4-f pulse shaper as you want to use it in the experiment. Make sure that your slit is sufficiently narrow for e.g. a TPE experiment. A change in slit width requires a new calibration run. \n",
    "\n",
    "Go to the skript \"pulse_shaper_calibration.py\" and return once you have a calibration file for the pulse shaper.\n",
    "\n",
    "In a future version this will be steamlined."
   ]
  },
  {
   "cell_type": "code",
   "execution_count": 15,
   "metadata": {},
   "outputs": [
    {
     "name": "stdout",
     "output_type": "stream",
     "text": [
      "\n",
      "Motor connected!\n",
      "Motor name: Fancy motor\n",
      "Motor device: <Pulse_v2.fake_motor object at 0x7f32883c68f0>\n",
      "Motor time of creation: 2024-10-01 12:06:16.376157\n",
      "\n",
      "Pulse Shaper connected!\n",
      "Pulse Shaper name: Fancy pulse shaper\n",
      "Pulse Shaper device: <Pulse_v2.motor object at 0x7f3284136d40>\n",
      "Pulse Shaper time of creation: 2024-10-01 12:06:16.376393\n",
      "Pulse Shaper calibration file: DEMO_calibration.txt\n"
     ]
    }
   ],
   "source": [
    "# once we got the calibration we will create a pulse shaper object\n",
    "# first we will need a PULSE motor \n",
    "lab_motor = fake_motor() # because we closed the motor before\n",
    "pulse_motor = motor(lab_motor, name='Fancy motor')\n",
    "# then we will transform it into a pulse shaper \n",
    "pulse_shaper_calibration = 'DEMO_calibration.txt'\n",
    "pulse_shaper_pulse = pulse_shaper_obj(device=pulse_motor, calibration_file=pulse_shaper_calibration, name='Fancy pulse shaper')"
   ]
  },
  {
   "cell_type": "code",
   "execution_count": 16,
   "metadata": {},
   "outputs": [
    {
     "name": "stdout",
     "output_type": "stream",
     "text": [
      "\n",
      "Attenuator connected!\n",
      "Attenuator name: Fancy attenuator\n",
      "Attenuator device: <Pulse_v2.fake_attenuator object at 0x7f328831ee00>\n",
      "Attenuator time of creation: 2024-10-01 12:06:27.713269\n",
      "\n",
      "Spectrometer connected!\n",
      "Spectrometer name: Fake spectrometer\n",
      "Spectrometer device: <Pulse_v2.fake_spectrometer object at 0x7f3284136da0>\n",
      "Spectrometer time of creation: 2024-10-01 12:06:27.714149\n"
     ]
    }
   ],
   "source": [
    "# lets setup an experiment consisting of a pulse shaper, an attenuator and a spectrometer \n",
    "lab_attenuator = fake_attenuator() # because we closed the attenuator before\n",
    "pulse_attenuator = attenuator(lab_attenuator, name='Fancy attenuator')\n",
    "\n",
    "lab_spectrometer = fake_spectrometer(n_wl=1340, start_wl=774.15, end_wl=793.422) # because we closed the spectrometer before\n",
    "pulse_spectrometer = spectrometer(lab_spectrometer, name='Fake spectrometer')\n",
    "\n"
   ]
  },
  {
   "cell_type": "code",
   "execution_count": 19,
   "metadata": {},
   "outputs": [
    {
     "name": "stdout",
     "output_type": "stream",
     "text": [
      "Current attenuation:  0.5\n",
      "Step size:  0.02\n",
      "Large step size:  10\n",
      "Initial attenuation:  None\n",
      "Open GUI:  True\n",
      "Parent window:  None\n",
      "Previous control:  None\n",
      "Pulseshaper: Fancy pulse shaper\n",
      "Current position: 794.2148352443684\n",
      "Current step size: 0.1\n",
      "Spectrometer Control\n",
      "Spectrometer Object: Fake spectrometer\n",
      "Open GUI: True\n",
      "Display Experiment: True\n",
      "Display Pulse: False\n",
      "Display Simulation: False\n",
      "Autoscale: True\n",
      "hier könnte ihre GUI stehen!\n",
      "Moving to position:  1.658073574210988\n",
      "Setting attenuation to:  0.48\n",
      "Setting attenuation to:  0.45999999999999996\n",
      "Setting attenuation to:  0.48\n",
      "Setting attenuation to:  0.5\n",
      "Moving to position:  2.1022727272727626\n",
      "Moving to position:  2.546471880334537\n",
      "Moving to position:  2.990671033396312\n",
      "Moving to position:  3.434870186458086\n",
      "Moving to position:  2.990671033396312\n",
      "Moving to position:  2.546471880334537\n",
      "Moving to position:  2.1022727272727626\n",
      "Motor closed\n",
      "Fancy pulse shaper closed\n",
      "Attenuator closed\n",
      "Window closed\n"
     ]
    }
   ],
   "source": [
    "# each of the PULSE Devices hat a function called \"open_control()\" which opens a control object for the device\n",
    "# Per default this opens a GUI to aid the experiments \n",
    "# As in the simulation notebook we must chain the controls to ensure the correct order of operations\n",
    "attenuator_control = pulse_attenuator.open_control()\n",
    "shaper_control = pulse_shaper_pulse.open_control(previous_control=attenuator_control)\n",
    "spectrometer_control = pulse_spectrometer.open_control(previous_control=shaper_control)\n",
    "# and we need to tell one of the controllers to start the mainloop for the gui\n",
    "shaper_control.start_gui()"
   ]
  },
  {
   "cell_type": "markdown",
   "metadata": {},
   "source": [
    " I hope everything worked so far. Although cool this is not particularly useful.. yet. Thats why we will now use these tools to optimize a TPE experiment\n",
    " "
   ]
  },
  {
   "cell_type": "code",
   "execution_count": 20,
   "metadata": {},
   "outputs": [
    {
     "name": "stdout",
     "output_type": "stream",
     "text": [
      "\n",
      "Motor connected!\n",
      "Motor name: Fancy motor\n",
      "Motor device: <Pulse_v2.fake_motor object at 0x7f323234f760>\n",
      "Motor time of creation: 2024-10-01 12:09:24.175213\n",
      "\n",
      "Pulse Shaper connected!\n",
      "Pulse Shaper name: Fancy pulse shaper\n",
      "Pulse Shaper device: <Pulse_v2.motor object at 0x7f323234ebf0>\n",
      "Pulse Shaper time of creation: 2024-10-01 12:09:24.175417\n",
      "Pulse Shaper calibration file: DEMO_calibration.txt\n",
      "\n",
      "Attenuator connected!\n",
      "Attenuator name: Fancy attenuator\n",
      "Attenuator device: <Pulse_v2.fake_attenuator object at 0x7f323234ee30>\n",
      "Attenuator time of creation: 2024-10-01 12:09:24.176805\n",
      "\n",
      "Spectrometer connected!\n",
      "Spectrometer name: Fake spectrometer\n",
      "Spectrometer device: <Pulse_v2.fake_spectrometer object at 0x7f323234f2b0>\n",
      "Spectrometer time of creation: 2024-10-01 12:09:24.176910\n",
      "Setting attenuation to:  0.5\n",
      "Current attenuation:  0.5\n",
      "Step size:  0.02\n",
      "Large step size:  10\n",
      "Initial attenuation:  None\n",
      "Open GUI:  True\n",
      "Parent window:  None\n",
      "Previous control:  None\n",
      "Moving to position:  2.1022727272727626\n",
      "Pulseshaper: Fancy pulse shaper\n",
      "Current position: 794.2148352443684\n",
      "Current step size: 0.1\n",
      "Spectrometer Control\n",
      "Spectrometer Object: Fake spectrometer\n",
      "Open GUI: True\n",
      "Display Experiment: True\n",
      "Display Pulse: False\n",
      "Display Simulation: False\n",
      "Autoscale: True\n",
      "hier könnte ihre GUI stehen!\n",
      "Moving to position:  1.658073574210988\n",
      "Moving to position:  1.2138744211492134\n",
      "Moving to position:  0.7696752680874389\n",
      "Moving to position:  0.32547611502566437\n",
      "Moving to position:  0.7696752680874389\n",
      "Moving to position:  1.2138744211492134\n",
      "Moving to position:  1.658073574210988\n",
      "Moving to position:  2.1022727272727626\n",
      "Moving to position:  2.546471880334537\n",
      "Moving to position:  2.990671033396312\n",
      "Moving to position:  3.434870186458086\n",
      "Moving to position:  2.990671033396312\n",
      "Moving to position:  2.546471880334537\n",
      "Moving to position:  2.990671033396312\n",
      "snipped\n",
      "[(0.0, 1.0), (793.9148352443684, 794.9148352443684)]\n",
      "Moving to position:  2.546471880334537\n",
      "Moving to position:  2.1022727272727626\n",
      "Moving to position:  1.658073574210988\n",
      "Moving to position:  1.2138744211492134\n",
      "Moving to position:  0.7696752680874389\n",
      "snipped\n",
      "[(0.0, 1.0), (793.4148352443683, 794.4148352443683)]\n",
      "Setting attenuation to:  0.52\n",
      "Setting attenuation to:  0.54\n",
      "Setting attenuation to:  0.56\n",
      "Setting attenuation to:  0.5800000000000001\n",
      "snipped\n",
      "snipped\n",
      "[(0.08000000000000007, 1.08), (793.4148352443683, 794.4148352443683)]\n",
      "Setting attenuation to:  0.56\n",
      "Setting attenuation to:  0.54\n",
      "Setting attenuation to:  0.52\n",
      "Setting attenuation to:  0.5\n",
      "Setting attenuation to:  0.48\n",
      "Setting attenuation to:  0.45999999999999996\n",
      "Setting attenuation to:  0.43999999999999995\n",
      "Setting attenuation to:  0.41999999999999993\n",
      "Setting attenuation to:  0.3999999999999999\n",
      "Setting attenuation to:  0.3799999999999999\n",
      "snipped\n",
      "snipped\n",
      "[(-0.1200000000000001, 0.8799999999999999), (793.4148352443683, 794.4148352443683)]\n",
      "Output:  94.3112980481095\n",
      "Moving to position:  0.029343346318151317\n",
      "Output:  87.07538009744516\n",
      "Setting attenuation to:  0.1299999999999999\n",
      "Moving to position:  1.5100071898567264\n",
      "Output:  71.81560510292977\n",
      "Setting attenuation to:  0.6299999999999999\n",
      "Moving to position:  -0.9577658827080704\n",
      "Output:  60.789783446487746\n",
      "Setting attenuation to:  0.004999999999999893\n",
      "Moving to position:  0.5228979608310097\n",
      "Output:  94.58302452348974\n",
      "Setting attenuation to:  0.5049999999999999\n",
      "Moving to position:  2.00356180437009\n",
      "Output:  83.10901212861027\n",
      "Setting attenuation to:  0.2549999999999999\n",
      "Moving to position:  -0.4642112681952121\n",
      "Output:  85.08506465590092\n",
      "Setting attenuation to:  0.7549999999999999\n",
      "Moving to position:  1.016452575343868\n",
      "Output:  86.7621559808196\n",
      "Setting attenuation to:  0\n",
      "Moving to position:  2.497116418882948\n",
      "Output:  90.46035480204635\n",
      "Setting attenuation to:  0.4424999999999999\n",
      "Moving to position:  -1.286802292383141\n",
      "Output:  104.19697245150303\n",
      "Setting attenuation to:  0.1924999999999999\n",
      "Moving to position:  0.1938615511554341\n",
      "Output:  71.0564752972437\n",
      "Setting attenuation to:  0.43535815549153545\n",
      "Moving to position:  -0.6043637766251215\n",
      "Output:  112.22262403088126\n",
      "Setting attenuation to:  0.4225555898023027\n",
      "Moving to position:  1.577900910811175\n",
      "Output:  69.62193195993181\n",
      "Setting attenuation to:  0.43124589618233056\n",
      "Moving to position:  -0.9310438283633659\n",
      "Output:  123.46692504169495\n",
      "Setting attenuation to:  0.4280188144825301\n",
      "Moving to position:  -1.1721114245045443\n",
      "Output:  92.11275528855523\n",
      "Setting attenuation to:  0.46859482452929857\n",
      "Moving to position:  -0.5408053816523699\n",
      "Output:  80.94632888366502\n",
      "Setting attenuation to:  0.42989952901283124\n",
      "Moving to position:  -0.3365364082295848\n",
      "Output:  109.76860542938553\n",
      "Setting attenuation to:  0.43742912946542656\n",
      "Moving to position:  -0.6554815387387839\n",
      "Output:  69.16573422281152\n",
      "Setting attenuation to:  0.4284600895413244\n",
      "Moving to position:  -0.8247890132634454\n",
      "Output:  79.96005161212727\n",
      "Setting attenuation to:  0.43238706018064477\n",
      "Moving to position:  -0.9571942760124046\n",
      "Output:  92.51766634408618\n",
      "Setting attenuation to:  0.43124589618233056\n",
      "Moving to position:  -0.9310438283633659\n",
      "Output:  80.20274780049357\n",
      "Attenuator closed\n",
      "Window closed\n"
     ]
    }
   ],
   "source": [
    "# Since closing the GUIs disconnects the devices, we will have to reconnect them\n",
    "lab_motor = fake_motor() # because we closed the motor before\n",
    "pulse_motor = motor(lab_motor, name='Fancy motor')\n",
    "# then we will transform it into a pulse shaper \n",
    "pulse_shaper_calibration = 'DEMO_calibration.txt'\n",
    "pulse_shaper_pulse = pulse_shaper_obj(device=pulse_motor, calibration_file=pulse_shaper_calibration, name='Fancy pulse shaper')\n",
    "\n",
    "lab_attenuator = fake_attenuator() # because we closed the attenuator before\n",
    "pulse_attenuator = attenuator(lab_attenuator, name='Fancy attenuator')\n",
    "\n",
    "lab_spectrometer = fake_spectrometer(n_wl=1340, start_wl=774.15, end_wl=793.422) # because we closed the spectrometer before\n",
    "pulse_spectrometer = spectrometer(lab_spectrometer, name='Fake spectrometer') \n",
    "\n",
    "# open the respective control objects \n",
    "\n",
    "attenuator_control = pulse_attenuator.open_control()\n",
    "shaper_control = pulse_shaper_pulse.open_control(previous_control=attenuator_control)\n",
    "spectrometer_control = pulse_spectrometer.open_control(previous_control=shaper_control) \n",
    "\n",
    "\n",
    "#Before launching the GUIs we will load a package called control optimizer\n",
    "import control_optimizer as co\n",
    "\n",
    "optimizer = co.control_optimizer(device_control=[attenuator_control,shaper_control], measururement_control=spectrometer_control, measurement_kind='spectrometer')\n",
    "# the input \"device_control\" can take a list of all PULSE controllers corresponding to a Pulse shaping device (attenuator, shaper, time delay stage, in the future also waveplates ect.) \n",
    "# the input \"measurement_control\" can take measurement devices as input. Currently only the spectrometer is supported, but SNSPDs ect. will follow  \n",
    "# don't forget to start the mainloop for the optimizer\n",
    "\n",
    "optimizer.start_gui()"
   ]
  }
 ],
 "metadata": {
  "kernelspec": {
   "display_name": "Python 3",
   "language": "python",
   "name": "python3"
  },
  "language_info": {
   "codemirror_mode": {
    "name": "ipython",
    "version": 3
   },
   "file_extension": ".py",
   "mimetype": "text/x-python",
   "name": "python",
   "nbconvert_exporter": "python",
   "pygments_lexer": "ipython3",
   "version": "3.10.6"
  }
 },
 "nbformat": 4,
 "nbformat_minor": 2
}
